{
 "cells": [
  {
   "cell_type": "code",
   "execution_count": null,
   "id": "d2a64dae",
   "metadata": {},
   "outputs": [],
   "source": [
    "# Name: Mariano Antonio Regalado Iglesias\n",
    "# Student ID:REG23556163\n",
    "# Last update:18/02/2025 at 15:21"
   ]
  },
  {
   "cell_type": "code",
   "execution_count": null,
   "id": "66364a53",
   "metadata": {},
   "outputs": [],
   "source": [
    "import numpy as np  # For creating and handling the grid representation\n",
    "import random  # For generating random delivery points and obstacles\n",
    "import time  # For simulating real-time navigation"
   ]
  },
  {
   "cell_type": "code",
   "execution_count": null,
   "id": "acb412b4",
   "metadata": {},
   "outputs": [],
   "source": [
    "class SmartDeliveryRobot:\n",
    "    def __init__(self, size, delivery_points, start_position, obstacles):\n",
    "        self.size = size  # Store grid size\n",
    "        self.delivery_points = set(delivery_points)  # Store delivery points as a set for quick lookup\n",
    "        self.position = start_position  # Store robot's current position\n",
    "        self.delivered = set()  # Track parcels that have been delivered\n",
    "        self.obstacles = obstacles  # Store obstacles\n",
    "\n",
    "    def move(self, direction):  # Move the robot in a given direction\n",
    "        prev_position = self.position  # Store previous position before moving\n",
    "        x, y = self.position\n",
    "        new_position = self.position\n",
    "\n",
    "        if direction == \"left\" and x > 1:\n",
    "            new_position = (x - 1, y)\n",
    "        elif direction == \"right\" and x < self.size:\n",
    "            new_position = (x + 1, y)\n",
    "        elif direction == \"up\" and y < self.size:\n",
    "            new_position = (x, y + 1)\n",
    "        elif direction == \"down\" and y > 1:\n",
    "            new_position = (x, y - 1)\n",
    "        \n",
    "        if new_position not in self.obstacles:  # Check if new position is not an obstacle\n",
    "            self.position = new_position\n",
    "            display_grid(self.size, self.delivery_points, self, self.obstacles)  # Show updated grid after moving\n",
    "            print(f\"Moved {direction}\")  # Print movement action\n",
    "        else:\n",
    "            print(\"Cannot move, obstacle detected!\")  # Notify user if obstacle is in the way\n",
    "\n",
    "    def deliver(self):  # Deliver a parcel if at a delivery point\n",
    "        if self.position in self.delivery_points:\n",
    "            self.delivered.add(self.position)  # Mark as delivered\n",
    "            self.delivery_points.remove(self.position)  # Remove from delivery list\n",
    "            print(f\"Delivered at {self.position}\")  # Print delivery action\n",
    "\n",
    "    def all_delivered(self):  # Check if all parcels have been delivered\n",
    "        return len(self.delivery_points) == 0"
   ]
  },
  {
   "cell_type": "code",
   "execution_count": null,
   "id": "a84f2e44",
   "metadata": {},
   "outputs": [],
   "source": [
    "def navigate_and_deliver(robot):  # Navigate robot and perform deliveries\n",
    "    while not robot.all_delivered():  # Loop until all deliveries are completed\n",
    "        if robot.position in robot.delivery_points:\n",
    "            robot.deliver()  # Deliver parcel if at delivery point\n",
    "        else:\n",
    "            # Determine the closest delivery point using Manhattan distance, avoiding obstacles\n",
    "            possible_targets = [p for p in robot.delivery_points if p not in robot.obstacles]\n",
    "            if not possible_targets:\n",
    "                print(\"No possible delivery routes available! Stopping.\")\n",
    "                return\n",
    "            target = min(possible_targets, key=lambda p: abs(p[0] - robot.position[0]) + abs(p[1] - robot.position[1]))\n",
    "            \n",
    "            if target[0] > robot.position[0] and (robot.position[0] + 1, robot.position[1]) not in robot.obstacles:\n",
    "                robot.move(\"right\")\n",
    "            elif target[0] < robot.position[0] and (robot.position[0] - 1, robot.position[1]) not in robot.obstacles:\n",
    "                robot.move(\"left\")\n",
    "            elif target[1] > robot.position[1] and (robot.position[0], robot.position[1] + 1) not in robot.obstacles:\n",
    "                robot.move(\"up\")\n",
    "            elif target[1] < robot.position[1] and (robot.position[0], robot.position[1] - 1) not in robot.obstacles:\n",
    "                robot.move(\"down\")\n",
    "        time.sleep(1)  # Pause to simulate real-time movement\n",
    "    print(\"All deliveries completed!\")  # Print completion message"
   ]
  },
  {
   "cell_type": "code",
   "execution_count": null,
   "id": "e93c1605",
   "metadata": {},
   "outputs": [],
   "source": [
    "def get_grid_size():\n",
    "    while True:\n",
    "        try:\n",
    "            size = int(input(\"Enter grid size (1-6): \"))\n",
    "            if 1 <= size <= 6:\n",
    "                return size\n",
    "        except ValueError:\n",
    "            pass\n",
    "        print(\"Invalid input. Enter a number between 1 and 6.\")\n"
   ]
  },
  {
   "cell_type": "code",
   "execution_count": null,
   "id": "d12b4242",
   "metadata": {},
   "outputs": [],
   "source": [
    "def get_start_position(size):\n",
    "    while True:\n",
    "        try:\n",
    "            x, y = map(int, input(\"Enter start position (x,y): \").split(\",\"))\n",
    "            if 1 <= x <= size and 1 <= y <= size:\n",
    "                return (x, y)\n",
    "        except ValueError:\n",
    "            pass\n",
    "        print(f\"Invalid input. Enter two numbers between 1 and {size}.\")\n"
   ]
  },
  {
   "cell_type": "code",
   "execution_count": null,
   "id": "88d22512",
   "metadata": {},
   "outputs": [],
   "source": [
    "def generate_delivery_points(size):\n",
    "    num_points = random.randint(1, size)  # Randomly decide number of delivery points\n",
    "    points = set()\n",
    "    while len(points) < num_points:\n",
    "        x = random.randint(1, size)\n",
    "        y = random.randint(1, size)\n",
    "        points.add((x, y))\n",
    "    return list(points)"
   ]
  },
  {
   "cell_type": "code",
   "execution_count": null,
   "id": "ef6900ef",
   "metadata": {},
   "outputs": [],
   "source": [
    "def get_user_input_for_obstacles():\n",
    "    while True:\n",
    "        choice = input(\"Do you want to activate obstacles? (yes/no): \").strip().lower()\n",
    "        if choice in [\"yes\", \"no\"]:\n",
    "            return choice == \"yes\"\n",
    "        print(\"Invalid input. Please enter 'yes' or 'no'.\")"
   ]
  },
  {
   "cell_type": "code",
   "execution_count": null,
   "id": "e2b2cc10",
   "metadata": {},
   "outputs": [],
   "source": [
    "def generate_obstacles(size, enable_obstacles):  # Generate random obstacles if enabled\n",
    "    if not enable_obstacles:\n",
    "        return set()\n",
    "    num_obstacles = random.randint(1, size)  # Random number of obstacles\n",
    "    obstacles = set()\n",
    "    while len(obstacles) < num_obstacles:\n",
    "        x = random.randint(1, size)\n",
    "        y = random.randint(1, size)\n",
    "        obstacles.add((x, y))\n",
    "    return obstacles"
   ]
  },
  {
   "cell_type": "code",
   "execution_count": null,
   "id": "6e9a79c6",
   "metadata": {},
   "outputs": [],
   "source": [
    "def display_grid(size, delivery_points, robot, obstacles):  # Display the current state of the grid\n",
    "    grid = np.full((size, size), \" . \")  # Create an empty grid\n",
    "    for x, y in delivery_points:\n",
    "        grid[y - 1, x - 1] = \" D \"  # Mark delivery points with \"D\"\n",
    "    for x, y in obstacles:\n",
    "        grid[y - 1, x - 1] = \" X \"  # Mark obstacles with \"X\"\n",
    "    grid[robot.position[1] - 1, robot.position[0] - 1] = \" R \"  # Mark robot position with \"R\"\n",
    "    print(\"\\nUrban Environment:\")  # Print title\n",
    "    for row in reversed(grid):  # Print grid from top to bottom\n",
    "        print(\" \".join(row))\n"
   ]
  },
  {
   "cell_type": "code",
   "execution_count": null,
   "id": "5b2c1bc7",
   "metadata": {},
   "outputs": [],
   "source": [
    "def main():  # Main function to run the program\n",
    "    size = get_grid_size()  # Get grid size from user\n",
    "    delivery_points = generate_delivery_points(size)  # Generate delivery points\n",
    "    start_position = get_start_position(size)  # Get robot start position\n",
    "    enable_obstacles = get_user_input_for_obstacles()  # Ask user if they want obstacles\n",
    "    obstacles = generate_obstacles(size, enable_obstacles)  # Generate obstacles\n",
    "    robot = SmartDeliveryRobot(size, delivery_points, start_position, obstacles)  # Initialize robot\n",
    "    display_grid(size, delivery_points, robot, obstacles)  # Show initial grid state\n",
    "    navigate_and_deliver(robot)  # Start navigation and deliveries\n"
   ]
  },
  {
   "cell_type": "code",
   "execution_count": null,
   "id": "7df05d4b",
   "metadata": {},
   "outputs": [],
   "source": [
    "if __name__ == \"__main__\":\n",
    "    main()  # Run the main function"
   ]
  }
 ],
 "metadata": {
  "kernelspec": {
   "display_name": "Python 3 (ipykernel)",
   "language": "python",
   "name": "python3"
  },
  "language_info": {
   "codemirror_mode": {
    "name": "ipython",
    "version": 3
   },
   "file_extension": ".py",
   "mimetype": "text/x-python",
   "name": "python",
   "nbconvert_exporter": "python",
   "pygments_lexer": "ipython3",
   "version": "3.11.5"
  }
 },
 "nbformat": 4,
 "nbformat_minor": 5
}
